{
 "cells": [
  {
   "cell_type": "markdown",
   "metadata": {},
   "source": [
    "InsertionSortProblem Solve\n",
    "\n",
    "22,27,16,2,18,6 > Insertion Sort \n",
    "\n",
    "1. Sort list steps\n",
    "2. BIG-O shows \n",
    "3. Show Time Complexity : Average , worst , best\n",
    "4. 18 where add time complexity.\n",
    "\n",
    "1.\n",
    "[22,27,16,2,18,6]\n",
    "[2,27,16,22,18,6]\n",
    "[2,6,16,22,18,27]\n",
    "[2,6,16,18,22,27]\n",
    "2.  BIG-O Notations     : n2\n",
    "3.  Time Complexity ;\n",
    "        Best case       : 2\n",
    "        Average case    : 16,18\n",
    "        Worst case      : 27\n",
    "4. 18 is in the worst case."
   ]
  },
  {
   "cell_type": "markdown",
   "metadata": {},
   "source": [
    "InsertionSortProblem Solve\n",
    "\n",
    "7,3,5,8,2,9,4,15,6 > Insertion Sort \n",
    "\n",
    "1. Sort list steps\n",
    "\n",
    "1.\n",
    "[7,3,5,8,2,9,4,15,6]\n",
    "[2,3,5,8,7,9,4,15,6]\n",
    "[2,3,4,8,7,9,5,15,6]\n",
    "[2,3,4,5,7,9,8,16,6]\n",
    "\n"
   ]
  }
 ],
 "metadata": {
  "language_info": {
   "name": "python"
  },
  "orig_nbformat": 4
 },
 "nbformat": 4,
 "nbformat_minor": 2
}
